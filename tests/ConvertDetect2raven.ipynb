{
 "cells": [
  {
   "cell_type": "code",
   "execution_count": 1,
   "metadata": {},
   "outputs": [],
   "source": [
    "import sys\n",
    "sys.path.append(\"..\")  # Adds higher directory to python modules path.\n",
    "from ecosound.core.measurement import Measurement\n",
    "import pandas as pd\n",
    "import os"
   ]
  },
  {
   "cell_type": "code",
   "execution_count": 2,
   "metadata": {},
   "outputs": [],
   "source": [
    "listfile = r'C:\\Users\\xavier.mouy\\Documents\\PhD\\Projects\\Dectector\\DFO_manual_analysis\\files_list_for_2019.csv'\n",
    "indir = r'C:\\Users\\xavier.mouy\\Documents\\PhD\\Projects\\Dectector\\DFO_RCA_run\\RCA_in_April_July2019_1342218252'\n",
    "outdir = r'C:\\Users\\xavier.mouy\\Documents\\PhD\\Projects\\Dectector\\DFO_RCA_run\\Raven_files_RCA_in_April_July2019_1342218252'"
   ]
  },
  {
   "cell_type": "code",
   "execution_count": 3,
   "metadata": {},
   "outputs": [],
   "source": [
    "#Load list of files to convert to Raven\n",
    "df = pd.read_csv(listfile)\n",
    "df = df['stfile']"
   ]
  },
  {
   "cell_type": "code",
   "execution_count": 5,
   "metadata": {},
   "outputs": [],
   "source": [
    "for row in df.iteritems():\n",
    "    file = row[1]\n",
    "    detecfile = os.path.join(indir,file) + '.nc'\n",
    "    # Load detection file\n",
    "    Meas = Measurement()\n",
    "    Meas.from_netcdf(detecfile)\n",
    "    Meas.to_raven(outdir)"
   ]
  },
  {
   "cell_type": "code",
   "execution_count": null,
   "metadata": {},
   "outputs": [],
   "source": []
  }
 ],
 "metadata": {
  "kernelspec": {
   "display_name": "Python 3",
   "language": "python",
   "name": "python3"
  },
  "language_info": {
   "codemirror_mode": {
    "name": "ipython",
    "version": 3
   },
   "file_extension": ".py",
   "mimetype": "text/x-python",
   "name": "python",
   "nbconvert_exporter": "python",
   "pygments_lexer": "ipython3",
   "version": "3.7.7"
  }
 },
 "nbformat": 4,
 "nbformat_minor": 4
}
