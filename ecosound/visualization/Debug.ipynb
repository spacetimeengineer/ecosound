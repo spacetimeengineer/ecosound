{
 "cells": [
  {
   "cell_type": "code",
   "execution_count": 12,
   "metadata": {
    "scrolled": true
   },
   "outputs": [
    {
     "name": "stderr",
     "output_type": "stream",
     "text": [
      "C:\\Users\\xavier.mouy\\Documents\\Workspace\\GitHub\\ecosound\\ecosound\\visualization\\sound_plotter.py:292: RuntimeWarning: More than 20 figures have been opened. Figures created through the pyplot interface (`matplotlib.pyplot.figure`) are retained until explicitly closed and may consume too much memory. (To control this warning, see the rcParam `figure.max_open_warning`).\n",
      "  constrained_layout=True,\n",
      "WARNING:param.main: active_tools option not found for scatter plot; similar options include: []\n"
     ]
    },
    {
     "name": "stdout",
     "output_type": "stream",
     "text": [
      "Warning: FFT size automatically adjusted to 4096 samples (original size: 4094 )\n",
      "Launching server at http://localhost:59875\n"
     ]
    },
    {
     "data": {
      "text/plain": [
       "<bokeh.server.server.Server at 0x257b11d0688>"
      ]
     },
     "execution_count": 12,
     "metadata": {},
     "output_type": "execute_result"
    }
   ],
   "source": [
    "import hvplot.pandas\n",
    "import panel as pn\n",
    "import holoviews as hv\n",
    "import numpy as np\n",
    "import pandas as pd\n",
    "import os\n",
    "import sys\n",
    "import copy\n",
    "sys.path.append(r\"C:\\Users\\xavier.mouy\\Documents\\Workspace\\GitHub\\ecosound\")\n",
    "from ecosound.core.measurement import Measurement\n",
    "from ecosound.core.audiotools import Sound\n",
    "from ecosound.core.spectrogram import Spectrogram\n",
    "from ecosound.visualization.grapher_builder import GrapherFactory\n",
    "pn.extension()\n",
    "\n",
    "# load dataset\n",
    "data_file=r'C:\\Users\\xavier.mouy\\Documents\\PhD\\Projects\\Dectector\\results\\dataset_FS-NN.nc'\n",
    "dataset = Measurement()\n",
    "dataset.from_netcdf(data_file)\n",
    "data_all = dataset.data\n",
    "data = copy.deepcopy(data_all)\n",
    "#data = data.sample(n = 10000)\n",
    "\n",
    "# Widgets\n",
    "inputs = list(data.columns)\n",
    "X_variable  = pn.widgets.Select(name='X axis',\n",
    "                                value='frequency_min',\n",
    "                                options=inputs)\n",
    "Y_variable  = pn.widgets.Select(name='Y axis',\n",
    "                                value='frequency_max',\n",
    "                                options=inputs)\n",
    "Color  = pn.widgets.Select(name='Color',\n",
    "                           value='label_class',\n",
    "                           options=inputs)\n",
    "alpha_slider = pn.widgets.FloatSlider(name='Point transparency',\n",
    "                                      start=0, end=1,\n",
    "                                      step=0.1,\n",
    "                                      value=0.2,\n",
    "                                     )\n",
    "size_slider = pn.widgets.IntSlider(name='Point size',\n",
    "                                   start=1,\n",
    "                                   end=40,\n",
    "                                   step=1,\n",
    "                                   value=6,\n",
    "                                  )\n",
    "\n",
    "sampling_slider = pn.widgets.FloatSlider(name='Sampling ratio',\n",
    "                                      start=0, end=1,\n",
    "                                      step=0.1,\n",
    "                                      value=0.2,\n",
    "                                     )\n",
    "# Stream\n",
    "tap = hv.streams.Selection1D(index=[data.index.min()])\n",
    "\n",
    "# Subsample\n",
    "#@pn.depends(sampling_slider)\n",
    "def subsample(data1, sampling_slider):\n",
    "    n_points = int(len(data1)*sampling_slider)\n",
    "    return data1.sample(n = n_points)\n",
    "\n",
    "# Scatter plot\n",
    "@pn.depends(X_variable, Y_variable, Color, alpha_slider, size_slider,sampling_slider)\n",
    "def scatterplot(X_variable, Y_variable, Color, alpha_slider, size_slider,sampling_slider):\n",
    "    global data\n",
    "    data = subsample(data_all, sampling_slider)\n",
    "    scatter_plot = data.hvplot.scatter(x=X_variable,\n",
    "                                       y=Y_variable,\n",
    "                                       c=Color,\n",
    "                                       s=size_slider,\n",
    "                                       alpha=alpha_slider,\n",
    "                                       title= str(len(data)) + '/' + str(len(data_all)) + ' points',\n",
    "                                       #datashade=True,\n",
    "                                       tools=['tap'],\n",
    "                                       active_tools=['wheel_zoom'],\n",
    "                                      )\n",
    "    tap.source = scatter_plot   \n",
    "    #scatter_plot.opts(click_policy=\"hide\")\n",
    "    return scatter_plot   \n",
    "\n",
    "# Measurement table\n",
    "@pn.depends(tap.param.index)\n",
    "def table(index):  \n",
    "    if index:\n",
    "        return pn.pane.DataFrame(data.iloc[index[0]])\n",
    "\n",
    "# Spectrogram\n",
    "@pn.depends(tap.param.index)\n",
    "def spectrogram_plot(index):\n",
    "    #data.iloc[index[0]]\n",
    "    if index:\n",
    "        frame = 0.0625 #3000\n",
    "        nfft = 0.0853 # 4096\n",
    "        step = 0.01 # 5\n",
    "        fmin = 0\n",
    "        fmax = 1000\n",
    "        window_type = 'hann'\n",
    "        time_buffer = 1\n",
    "        palet = 'jet' # 'binary'\n",
    "\n",
    "        data_selection = data.iloc[index[0]]\n",
    "\n",
    "        wavfilename = os.path.join(data_selection.audio_file_dir, data_selection.audio_file_name + data_selection.audio_file_extension)\n",
    "        t1 = data_selection.time_min_offset - time_buffer\n",
    "        t2 = data_selection.time_max_offset + time_buffer\n",
    "        # load audio data\n",
    "        sound = Sound(wavfilename)\n",
    "        sound.read(channel=0, chunk=[t1, t2], unit='sec', detrend=True)\n",
    "        # Calculates  spectrogram\n",
    "        spectro = Spectrogram(frame, window_type, nfft, step, sound.waveform_sampling_frequency, unit='sec')\n",
    "        spectro.compute(sound, dB=True, use_dask=False, dask_chunks=40)\n",
    "\n",
    "        # Plot\n",
    "        graph = GrapherFactory('SoundPlotter', title=str(index[0]) + ': ' +data_selection.label_class + ' - ' +data_selection.label_subclass, frequency_max=fmax)\n",
    "        graph.add_data(spectro)\n",
    "        #graph.colormap = 'binary'\n",
    "        graph.colormap = palet\n",
    "        fig, ax = graph.show(display=False)\n",
    "        return pn.pane.Matplotlib(fig)\n",
    "\n",
    "# Dashboard\n",
    "#gspec = pn.GridSpec(sizing_mode='stretch_both', max_height=800)\n",
    "tabs = pn.Tabs(('Axes',pn.Column(X_variable, Y_variable, Color, sampling_slider)))\n",
    "tabs.append(('Style',pn.Column(alpha_slider, size_slider)))\n",
    "widgets = tabs\n",
    "tabs2 = pn.Tabs(('Spectrogram',spectrogram_plot))\n",
    "tabs2.append(('Measurements',table))\n",
    "\n",
    "dashboard = pn.Column(pn.Row(widgets, scatterplot),tabs2)\n",
    "\n",
    "dashboard.show()\n",
    "#dashboard\n"
   ]
  },
  {
   "cell_type": "code",
   "execution_count": 10,
   "metadata": {},
   "outputs": [
    {
     "data": {
      "text/plain": [
       "11687"
      ]
     },
     "execution_count": 10,
     "metadata": {},
     "output_type": "execute_result"
    }
   ],
   "source": [
    "len(data)"
   ]
  },
  {
   "cell_type": "code",
   "execution_count": 11,
   "metadata": {},
   "outputs": [
    {
     "data": {
      "text/plain": [
       "58439"
      ]
     },
     "execution_count": 11,
     "metadata": {},
     "output_type": "execute_result"
    },
    {
     "name": "stdout",
     "output_type": "stream",
     "text": [
      "Warning: FFT size automatically adjusted to 4096 samples (original size: 4094 )\n"
     ]
    },
    {
     "name": "stderr",
     "output_type": "stream",
     "text": [
      "C:\\Users\\xavier.mouy\\Documents\\Workspace\\GitHub\\ecosound\\ecosound\\visualization\\sound_plotter.py:292: RuntimeWarning: More than 20 figures have been opened. Figures created through the pyplot interface (`matplotlib.pyplot.figure`) are retained until explicitly closed and may consume too much memory. (To control this warning, see the rcParam `figure.max_open_warning`).\n",
      "  constrained_layout=True,\n"
     ]
    },
    {
     "name": "stdout",
     "output_type": "stream",
     "text": [
      "Warning: FFT size automatically adjusted to 4096 samples (original size: 2730 )\n"
     ]
    },
    {
     "name": "stderr",
     "output_type": "stream",
     "text": [
      "C:\\Users\\xavier.mouy\\Documents\\Workspace\\GitHub\\ecosound\\ecosound\\visualization\\sound_plotter.py:292: RuntimeWarning: More than 20 figures have been opened. Figures created through the pyplot interface (`matplotlib.pyplot.figure`) are retained until explicitly closed and may consume too much memory. (To control this warning, see the rcParam `figure.max_open_warning`).\n",
      "  constrained_layout=True,\n"
     ]
    },
    {
     "name": "stdout",
     "output_type": "stream",
     "text": [
      "Warning: FFT size automatically adjusted to 4096 samples (original size: 2730 )\n"
     ]
    },
    {
     "name": "stderr",
     "output_type": "stream",
     "text": [
      "C:\\Users\\xavier.mouy\\Documents\\Workspace\\GitHub\\ecosound\\ecosound\\visualization\\sound_plotter.py:292: RuntimeWarning: More than 20 figures have been opened. Figures created through the pyplot interface (`matplotlib.pyplot.figure`) are retained until explicitly closed and may consume too much memory. (To control this warning, see the rcParam `figure.max_open_warning`).\n",
      "  constrained_layout=True,\n",
      "WARNING:param.main: active_toold option not found for scatter plot; similar options include: []\n",
      "WARNING:param.main: active_toold option not found for scatter plot; similar options include: []\n",
      "WARNING:param.main: active_toold option not found for scatter plot; similar options include: []\n",
      "WARNING:param.main: active_toold option not found for scatter plot; similar options include: []\n",
      "WARNING:param.main: active_toold option not found for scatter plot; similar options include: []\n",
      "WARNING:param.main: active_toold option not found for scatter plot; similar options include: []\n",
      "WARNING:param.main: active_toold option not found for scatter plot; similar options include: []\n"
     ]
    },
    {
     "name": "stdout",
     "output_type": "stream",
     "text": [
      "Warning: FFT size automatically adjusted to 4096 samples (original size: 2730 )\n"
     ]
    },
    {
     "name": "stderr",
     "output_type": "stream",
     "text": [
      "C:\\Users\\xavier.mouy\\Documents\\Workspace\\GitHub\\ecosound\\ecosound\\visualization\\sound_plotter.py:292: RuntimeWarning: More than 20 figures have been opened. Figures created through the pyplot interface (`matplotlib.pyplot.figure`) are retained until explicitly closed and may consume too much memory. (To control this warning, see the rcParam `figure.max_open_warning`).\n",
      "  constrained_layout=True,\n",
      "WARNING:param.main: active_toold option not found for scatter plot; similar options include: []\n",
      "WARNING:param.main: active_toold option not found for scatter plot; similar options include: []\n",
      "WARNING:param.main: active_toold option not found for scatter plot; similar options include: []\n",
      "WARNING:param.main: active_toold option not found for scatter plot; similar options include: []\n",
      "WARNING:param.main: active_toold option not found for scatter plot; similar options include: []\n",
      "WARNING:param.main: active_toold option not found for scatter plot; similar options include: []\n",
      "WARNING:param.main: active_toold option not found for scatter plot; similar options include: []\n",
      "WARNING:param.main: active_toold option not found for scatter plot; similar options include: []\n",
      "WARNING:param.main: active_toold option not found for scatter plot; similar options include: []\n",
      "WARNING:param.main: active_toold option not found for scatter plot; similar options include: []\n",
      "WARNING:param.main: active_toold option not found for scatter plot; similar options include: []\n",
      "WARNING:param.main: active_toold option not found for scatter plot; similar options include: []\n"
     ]
    }
   ],
   "source": [
    "len(data_all)"
   ]
  },
  {
   "cell_type": "code",
   "execution_count": 13,
   "metadata": {},
   "outputs": [
    {
     "data": {
      "text/html": [
       "<div>\n",
       "<style scoped>\n",
       "    .dataframe tbody tr th:only-of-type {\n",
       "        vertical-align: middle;\n",
       "    }\n",
       "\n",
       "    .dataframe tbody tr th {\n",
       "        vertical-align: top;\n",
       "    }\n",
       "\n",
       "    .dataframe thead th {\n",
       "        text-align: right;\n",
       "    }\n",
       "</style>\n",
       "<table border=\"1\" class=\"dataframe\">\n",
       "  <thead>\n",
       "    <tr style=\"text-align: right;\">\n",
       "      <th></th>\n",
       "      <th>date</th>\n",
       "      <th>uuid</th>\n",
       "      <th>from_detector</th>\n",
       "      <th>software_name</th>\n",
       "      <th>software_version</th>\n",
       "      <th>operator_name</th>\n",
       "      <th>UTC_offset</th>\n",
       "      <th>entry_date</th>\n",
       "      <th>audio_channel</th>\n",
       "      <th>audio_file_name</th>\n",
       "      <th>...</th>\n",
       "      <th>time_iqr</th>\n",
       "      <th>time_asymmetry</th>\n",
       "      <th>time_concentration</th>\n",
       "      <th>time_std</th>\n",
       "      <th>time_kurtosis</th>\n",
       "      <th>time_skewness</th>\n",
       "      <th>time_entropy</th>\n",
       "      <th>time_flatness</th>\n",
       "      <th>time_roughness</th>\n",
       "      <th>time_centroid</th>\n",
       "    </tr>\n",
       "  </thead>\n",
       "  <tbody>\n",
       "    <tr>\n",
       "      <th>50052</th>\n",
       "      <td>2014-09-18 08:33:01.833</td>\n",
       "      <td>80f0722e-87f4-48fe-be5a-0637150ecf96</td>\n",
       "      <td>True</td>\n",
       "      <td>BlobDetector</td>\n",
       "      <td>0.1</td>\n",
       "      <td>xmouy-lpx</td>\n",
       "      <td>0.0</td>\n",
       "      <td>2020-06-08 11:39:33.709113</td>\n",
       "      <td>2</td>\n",
       "      <td>JASCOAMARHYDROPHONE742_20140918T083238.733Z</td>\n",
       "      <td>...</td>\n",
       "      <td>0.055</td>\n",
       "      <td>0.051429</td>\n",
       "      <td>0.067</td>\n",
       "      <td>0.034145</td>\n",
       "      <td>-1.337581</td>\n",
       "      <td>0.352902</td>\n",
       "      <td>-7.284042</td>\n",
       "      <td>0.978900</td>\n",
       "      <td>0.004554</td>\n",
       "      <td>0.089285</td>\n",
       "    </tr>\n",
       "    <tr>\n",
       "      <th>23134</th>\n",
       "      <td>2019-08-30 02:45:16.370</td>\n",
       "      <td>ad921e44-daa7-41c3-8ae5-e7dab92afb07</td>\n",
       "      <td>True</td>\n",
       "      <td>BlobDetector</td>\n",
       "      <td>0.1</td>\n",
       "      <td>xmouy-lpx</td>\n",
       "      <td>0.0</td>\n",
       "      <td>2020-06-05 17:08:11.433286</td>\n",
       "      <td>4</td>\n",
       "      <td>AMAR173.4.20190830T023532Z</td>\n",
       "      <td>...</td>\n",
       "      <td>0.071</td>\n",
       "      <td>-0.005464</td>\n",
       "      <td>0.080</td>\n",
       "      <td>0.021630</td>\n",
       "      <td>-1.287553</td>\n",
       "      <td>-0.370361</td>\n",
       "      <td>-7.495448</td>\n",
       "      <td>0.984221</td>\n",
       "      <td>0.003214</td>\n",
       "      <td>0.093362</td>\n",
       "    </tr>\n",
       "    <tr>\n",
       "      <th>39291</th>\n",
       "      <td>2019-09-16 04:38:45.400</td>\n",
       "      <td>9710bad7-b709-4d5c-9c0d-7f82b6530cda</td>\n",
       "      <td>True</td>\n",
       "      <td>BlobDetector</td>\n",
       "      <td>0.1</td>\n",
       "      <td>xmouy-lpx</td>\n",
       "      <td>0.0</td>\n",
       "      <td>2020-06-07 23:18:51.415925</td>\n",
       "      <td>4</td>\n",
       "      <td>AMAR173.4.20190916T041248Z</td>\n",
       "      <td>...</td>\n",
       "      <td>0.181</td>\n",
       "      <td>-0.031884</td>\n",
       "      <td>0.331</td>\n",
       "      <td>0.008879</td>\n",
       "      <td>0.303336</td>\n",
       "      <td>0.431974</td>\n",
       "      <td>-8.487562</td>\n",
       "      <td>0.993218</td>\n",
       "      <td>0.007477</td>\n",
       "      <td>0.179670</td>\n",
       "    </tr>\n",
       "    <tr>\n",
       "      <th>13488</th>\n",
       "      <td>2019-08-24 05:28:54.800</td>\n",
       "      <td>b25c2aff-c65a-40df-a49a-cef211dbf455</td>\n",
       "      <td>True</td>\n",
       "      <td>BlobDetector</td>\n",
       "      <td>0.1</td>\n",
       "      <td>xmouy-lpx</td>\n",
       "      <td>0.0</td>\n",
       "      <td>2020-06-05 16:58:50.582790</td>\n",
       "      <td>4</td>\n",
       "      <td>AMAR173.4.20190824T050532Z</td>\n",
       "      <td>...</td>\n",
       "      <td>0.020</td>\n",
       "      <td>0.000000</td>\n",
       "      <td>0.018</td>\n",
       "      <td>0.096847</td>\n",
       "      <td>-1.153628</td>\n",
       "      <td>0.609014</td>\n",
       "      <td>-5.889459</td>\n",
       "      <td>0.970199</td>\n",
       "      <td>0.004735</td>\n",
       "      <td>0.033926</td>\n",
       "    </tr>\n",
       "    <tr>\n",
       "      <th>13853</th>\n",
       "      <td>2019-08-24 05:32:33.880</td>\n",
       "      <td>05a88a7b-7a86-44af-bf44-939c721d7b01</td>\n",
       "      <td>True</td>\n",
       "      <td>BlobDetector</td>\n",
       "      <td>0.1</td>\n",
       "      <td>xmouy-lpx</td>\n",
       "      <td>0.0</td>\n",
       "      <td>2020-06-05 16:58:50.582790</td>\n",
       "      <td>4</td>\n",
       "      <td>AMAR173.4.20190824T050532Z</td>\n",
       "      <td>...</td>\n",
       "      <td>0.093</td>\n",
       "      <td>0.051163</td>\n",
       "      <td>0.107</td>\n",
       "      <td>0.015437</td>\n",
       "      <td>-1.082698</td>\n",
       "      <td>-0.354370</td>\n",
       "      <td>-7.797258</td>\n",
       "      <td>0.988678</td>\n",
       "      <td>0.003942</td>\n",
       "      <td>0.107877</td>\n",
       "    </tr>\n",
       "    <tr>\n",
       "      <th>...</th>\n",
       "      <td>...</td>\n",
       "      <td>...</td>\n",
       "      <td>...</td>\n",
       "      <td>...</td>\n",
       "      <td>...</td>\n",
       "      <td>...</td>\n",
       "      <td>...</td>\n",
       "      <td>...</td>\n",
       "      <td>...</td>\n",
       "      <td>...</td>\n",
       "      <td>...</td>\n",
       "      <td>...</td>\n",
       "      <td>...</td>\n",
       "      <td>...</td>\n",
       "      <td>...</td>\n",
       "      <td>...</td>\n",
       "      <td>...</td>\n",
       "      <td>...</td>\n",
       "      <td>...</td>\n",
       "      <td>...</td>\n",
       "      <td>...</td>\n",
       "    </tr>\n",
       "    <tr>\n",
       "      <th>44684</th>\n",
       "      <td>2019-09-16 11:59:28.820</td>\n",
       "      <td>e21cd7bf-cc3e-4f16-ba6e-78959dbae658</td>\n",
       "      <td>True</td>\n",
       "      <td>BlobDetector</td>\n",
       "      <td>0.1</td>\n",
       "      <td>xmouy-lpx</td>\n",
       "      <td>0.0</td>\n",
       "      <td>2020-06-08 00:50:04.687609</td>\n",
       "      <td>4</td>\n",
       "      <td>AMAR173.4.20190916T114248Z</td>\n",
       "      <td>...</td>\n",
       "      <td>0.397</td>\n",
       "      <td>0.161905</td>\n",
       "      <td>0.674</td>\n",
       "      <td>0.004790</td>\n",
       "      <td>0.556213</td>\n",
       "      <td>1.019298</td>\n",
       "      <td>-9.561034</td>\n",
       "      <td>0.992862</td>\n",
       "      <td>0.004096</td>\n",
       "      <td>0.364807</td>\n",
       "    </tr>\n",
       "    <tr>\n",
       "      <th>10390</th>\n",
       "      <td>2019-08-20 20:42:47.990</td>\n",
       "      <td>ddfc5f49-c008-4bd3-8ed0-81482cab7fd6</td>\n",
       "      <td>True</td>\n",
       "      <td>BlobDetector</td>\n",
       "      <td>0.1</td>\n",
       "      <td>xmouy-lpx</td>\n",
       "      <td>0.0</td>\n",
       "      <td>2020-06-05 16:54:46.380895</td>\n",
       "      <td>4</td>\n",
       "      <td>AMAR173.4.20190820T203532Z</td>\n",
       "      <td>...</td>\n",
       "      <td>0.032</td>\n",
       "      <td>0.025000</td>\n",
       "      <td>0.030</td>\n",
       "      <td>0.038492</td>\n",
       "      <td>-1.189026</td>\n",
       "      <td>0.163562</td>\n",
       "      <td>-6.405803</td>\n",
       "      <td>0.989962</td>\n",
       "      <td>0.002032</td>\n",
       "      <td>0.040599</td>\n",
       "    </tr>\n",
       "    <tr>\n",
       "      <th>53557</th>\n",
       "      <td>2018-10-18 03:48:45.090</td>\n",
       "      <td>c928bcd8-fd46-4420-ab8c-3bbc12760dfb</td>\n",
       "      <td>True</td>\n",
       "      <td>BlobDetector</td>\n",
       "      <td>0.1</td>\n",
       "      <td>xmouy-lpx</td>\n",
       "      <td>-8.0</td>\n",
       "      <td>2020-06-08 07:53:21.751322</td>\n",
       "      <td>1</td>\n",
       "      <td>67674121.181018033806</td>\n",
       "      <td>...</td>\n",
       "      <td>0.059</td>\n",
       "      <td>0.023256</td>\n",
       "      <td>0.071</td>\n",
       "      <td>0.018134</td>\n",
       "      <td>-0.326553</td>\n",
       "      <td>-0.914644</td>\n",
       "      <td>-7.082610</td>\n",
       "      <td>0.993148</td>\n",
       "      <td>0.002172</td>\n",
       "      <td>0.064836</td>\n",
       "    </tr>\n",
       "    <tr>\n",
       "      <th>38934</th>\n",
       "      <td>2019-09-16 03:33:19.040</td>\n",
       "      <td>51b9ba3c-036e-4f7a-a5fd-d034d2cce41f</td>\n",
       "      <td>True</td>\n",
       "      <td>BlobDetector</td>\n",
       "      <td>0.1</td>\n",
       "      <td>xmouy-lpx</td>\n",
       "      <td>0.0</td>\n",
       "      <td>2020-06-07 23:09:39.834127</td>\n",
       "      <td>4</td>\n",
       "      <td>AMAR173.4.20190916T031248Z</td>\n",
       "      <td>...</td>\n",
       "      <td>0.030</td>\n",
       "      <td>0.042553</td>\n",
       "      <td>0.028</td>\n",
       "      <td>0.054767</td>\n",
       "      <td>-1.300859</td>\n",
       "      <td>0.527850</td>\n",
       "      <td>-6.525791</td>\n",
       "      <td>0.980349</td>\n",
       "      <td>0.003070</td>\n",
       "      <td>0.048406</td>\n",
       "    </tr>\n",
       "    <tr>\n",
       "      <th>51904</th>\n",
       "      <td>2018-10-18 01:22:26.890</td>\n",
       "      <td>b500d5e7-73b5-48ab-ab55-629d01df322d</td>\n",
       "      <td>True</td>\n",
       "      <td>BlobDetector</td>\n",
       "      <td>0.1</td>\n",
       "      <td>xmouy-lpx</td>\n",
       "      <td>-8.0</td>\n",
       "      <td>2020-06-08 07:42:00.186957</td>\n",
       "      <td>1</td>\n",
       "      <td>67674121.181018010806</td>\n",
       "      <td>...</td>\n",
       "      <td>0.124</td>\n",
       "      <td>0.130081</td>\n",
       "      <td>0.100</td>\n",
       "      <td>0.015364</td>\n",
       "      <td>-0.891793</td>\n",
       "      <td>0.611241</td>\n",
       "      <td>-7.997981</td>\n",
       "      <td>0.988586</td>\n",
       "      <td>0.004018</td>\n",
       "      <td>0.123288</td>\n",
       "    </tr>\n",
       "  </tbody>\n",
       "</table>\n",
       "<p>11687 rows × 81 columns</p>\n",
       "</div>"
      ],
      "text/plain": [
       "                         date                                  uuid  \\\n",
       "50052 2014-09-18 08:33:01.833  80f0722e-87f4-48fe-be5a-0637150ecf96   \n",
       "23134 2019-08-30 02:45:16.370  ad921e44-daa7-41c3-8ae5-e7dab92afb07   \n",
       "39291 2019-09-16 04:38:45.400  9710bad7-b709-4d5c-9c0d-7f82b6530cda   \n",
       "13488 2019-08-24 05:28:54.800  b25c2aff-c65a-40df-a49a-cef211dbf455   \n",
       "13853 2019-08-24 05:32:33.880  05a88a7b-7a86-44af-bf44-939c721d7b01   \n",
       "...                       ...                                   ...   \n",
       "44684 2019-09-16 11:59:28.820  e21cd7bf-cc3e-4f16-ba6e-78959dbae658   \n",
       "10390 2019-08-20 20:42:47.990  ddfc5f49-c008-4bd3-8ed0-81482cab7fd6   \n",
       "53557 2018-10-18 03:48:45.090  c928bcd8-fd46-4420-ab8c-3bbc12760dfb   \n",
       "38934 2019-09-16 03:33:19.040  51b9ba3c-036e-4f7a-a5fd-d034d2cce41f   \n",
       "51904 2018-10-18 01:22:26.890  b500d5e7-73b5-48ab-ab55-629d01df322d   \n",
       "\n",
       "       from_detector software_name software_version operator_name  UTC_offset  \\\n",
       "50052           True  BlobDetector              0.1     xmouy-lpx         0.0   \n",
       "23134           True  BlobDetector              0.1     xmouy-lpx         0.0   \n",
       "39291           True  BlobDetector              0.1     xmouy-lpx         0.0   \n",
       "13488           True  BlobDetector              0.1     xmouy-lpx         0.0   \n",
       "13853           True  BlobDetector              0.1     xmouy-lpx         0.0   \n",
       "...              ...           ...              ...           ...         ...   \n",
       "44684           True  BlobDetector              0.1     xmouy-lpx         0.0   \n",
       "10390           True  BlobDetector              0.1     xmouy-lpx         0.0   \n",
       "53557           True  BlobDetector              0.1     xmouy-lpx        -8.0   \n",
       "38934           True  BlobDetector              0.1     xmouy-lpx         0.0   \n",
       "51904           True  BlobDetector              0.1     xmouy-lpx        -8.0   \n",
       "\n",
       "                      entry_date  audio_channel  \\\n",
       "50052 2020-06-08 11:39:33.709113              2   \n",
       "23134 2020-06-05 17:08:11.433286              4   \n",
       "39291 2020-06-07 23:18:51.415925              4   \n",
       "13488 2020-06-05 16:58:50.582790              4   \n",
       "13853 2020-06-05 16:58:50.582790              4   \n",
       "...                          ...            ...   \n",
       "44684 2020-06-08 00:50:04.687609              4   \n",
       "10390 2020-06-05 16:54:46.380895              4   \n",
       "53557 2020-06-08 07:53:21.751322              1   \n",
       "38934 2020-06-07 23:09:39.834127              4   \n",
       "51904 2020-06-08 07:42:00.186957              1   \n",
       "\n",
       "                                   audio_file_name  ... time_iqr  \\\n",
       "50052  JASCOAMARHYDROPHONE742_20140918T083238.733Z  ...    0.055   \n",
       "23134                   AMAR173.4.20190830T023532Z  ...    0.071   \n",
       "39291                   AMAR173.4.20190916T041248Z  ...    0.181   \n",
       "13488                   AMAR173.4.20190824T050532Z  ...    0.020   \n",
       "13853                   AMAR173.4.20190824T050532Z  ...    0.093   \n",
       "...                                            ...  ...      ...   \n",
       "44684                   AMAR173.4.20190916T114248Z  ...    0.397   \n",
       "10390                   AMAR173.4.20190820T203532Z  ...    0.032   \n",
       "53557                        67674121.181018033806  ...    0.059   \n",
       "38934                   AMAR173.4.20190916T031248Z  ...    0.030   \n",
       "51904                        67674121.181018010806  ...    0.124   \n",
       "\n",
       "      time_asymmetry time_concentration  time_std  time_kurtosis  \\\n",
       "50052       0.051429              0.067  0.034145      -1.337581   \n",
       "23134      -0.005464              0.080  0.021630      -1.287553   \n",
       "39291      -0.031884              0.331  0.008879       0.303336   \n",
       "13488       0.000000              0.018  0.096847      -1.153628   \n",
       "13853       0.051163              0.107  0.015437      -1.082698   \n",
       "...              ...                ...       ...            ...   \n",
       "44684       0.161905              0.674  0.004790       0.556213   \n",
       "10390       0.025000              0.030  0.038492      -1.189026   \n",
       "53557       0.023256              0.071  0.018134      -0.326553   \n",
       "38934       0.042553              0.028  0.054767      -1.300859   \n",
       "51904       0.130081              0.100  0.015364      -0.891793   \n",
       "\n",
       "      time_skewness time_entropy time_flatness time_roughness time_centroid  \n",
       "50052      0.352902    -7.284042      0.978900       0.004554      0.089285  \n",
       "23134     -0.370361    -7.495448      0.984221       0.003214      0.093362  \n",
       "39291      0.431974    -8.487562      0.993218       0.007477      0.179670  \n",
       "13488      0.609014    -5.889459      0.970199       0.004735      0.033926  \n",
       "13853     -0.354370    -7.797258      0.988678       0.003942      0.107877  \n",
       "...             ...          ...           ...            ...           ...  \n",
       "44684      1.019298    -9.561034      0.992862       0.004096      0.364807  \n",
       "10390      0.163562    -6.405803      0.989962       0.002032      0.040599  \n",
       "53557     -0.914644    -7.082610      0.993148       0.002172      0.064836  \n",
       "38934      0.527850    -6.525791      0.980349       0.003070      0.048406  \n",
       "51904      0.611241    -7.997981      0.988586       0.004018      0.123288  \n",
       "\n",
       "[11687 rows x 81 columns]"
      ]
     },
     "execution_count": 13,
     "metadata": {},
     "output_type": "execute_result"
    },
    {
     "name": "stderr",
     "output_type": "stream",
     "text": [
      "WARNING:param.main: active_tools option not found for scatter plot; similar options include: []\n"
     ]
    },
    {
     "name": "stdout",
     "output_type": "stream",
     "text": [
      "Warning: FFT size automatically adjusted to 4096 samples (original size: 2730 )\n"
     ]
    },
    {
     "name": "stderr",
     "output_type": "stream",
     "text": [
      "C:\\Users\\xavier.mouy\\Documents\\Workspace\\GitHub\\ecosound\\ecosound\\visualization\\sound_plotter.py:292: RuntimeWarning: More than 20 figures have been opened. Figures created through the pyplot interface (`matplotlib.pyplot.figure`) are retained until explicitly closed and may consume too much memory. (To control this warning, see the rcParam `figure.max_open_warning`).\n",
      "  constrained_layout=True,\n"
     ]
    },
    {
     "name": "stdout",
     "output_type": "stream",
     "text": [
      "Warning: FFT size automatically adjusted to 4096 samples (original size: 4094 )\n"
     ]
    },
    {
     "name": "stderr",
     "output_type": "stream",
     "text": [
      "C:\\Users\\xavier.mouy\\Documents\\Workspace\\GitHub\\ecosound\\ecosound\\visualization\\sound_plotter.py:292: RuntimeWarning: More than 20 figures have been opened. Figures created through the pyplot interface (`matplotlib.pyplot.figure`) are retained until explicitly closed and may consume too much memory. (To control this warning, see the rcParam `figure.max_open_warning`).\n",
      "  constrained_layout=True,\n"
     ]
    },
    {
     "name": "stdout",
     "output_type": "stream",
     "text": [
      "Warning: FFT size automatically adjusted to 4096 samples (original size: 4094 )\n"
     ]
    },
    {
     "name": "stderr",
     "output_type": "stream",
     "text": [
      "C:\\Users\\xavier.mouy\\Documents\\Workspace\\GitHub\\ecosound\\ecosound\\visualization\\sound_plotter.py:292: RuntimeWarning: More than 20 figures have been opened. Figures created through the pyplot interface (`matplotlib.pyplot.figure`) are retained until explicitly closed and may consume too much memory. (To control this warning, see the rcParam `figure.max_open_warning`).\n",
      "  constrained_layout=True,\n"
     ]
    },
    {
     "name": "stdout",
     "output_type": "stream",
     "text": [
      "Warning: FFT size automatically adjusted to 4096 samples (original size: 2730 )\n"
     ]
    },
    {
     "name": "stderr",
     "output_type": "stream",
     "text": [
      "C:\\Users\\xavier.mouy\\Documents\\Workspace\\GitHub\\ecosound\\ecosound\\visualization\\sound_plotter.py:292: RuntimeWarning: More than 20 figures have been opened. Figures created through the pyplot interface (`matplotlib.pyplot.figure`) are retained until explicitly closed and may consume too much memory. (To control this warning, see the rcParam `figure.max_open_warning`).\n",
      "  constrained_layout=True,\n",
      "WARNING:param.main: active_tools option not found for scatter plot; similar options include: []\n",
      "WARNING:param.main: active_tools option not found for scatter plot; similar options include: []\n",
      "WARNING:param.main: active_tools option not found for scatter plot; similar options include: []\n",
      "WARNING:param.main: active_tools option not found for scatter plot; similar options include: []\n",
      "WARNING:param.main: active_tools option not found for scatter plot; similar options include: []\n",
      "WARNING:param.main: active_tools option not found for scatter plot; similar options include: []\n",
      "WARNING:param.main: active_tools option not found for scatter plot; similar options include: []\n"
     ]
    },
    {
     "name": "stdout",
     "output_type": "stream",
     "text": [
      "Warning: FFT size automatically adjusted to 4096 samples (original size: 2730 )\n"
     ]
    },
    {
     "name": "stderr",
     "output_type": "stream",
     "text": [
      "C:\\Users\\xavier.mouy\\Documents\\Workspace\\GitHub\\ecosound\\ecosound\\visualization\\sound_plotter.py:292: RuntimeWarning: More than 20 figures have been opened. Figures created through the pyplot interface (`matplotlib.pyplot.figure`) are retained until explicitly closed and may consume too much memory. (To control this warning, see the rcParam `figure.max_open_warning`).\n",
      "  constrained_layout=True,\n"
     ]
    },
    {
     "name": "stdout",
     "output_type": "stream",
     "text": [
      "Warning: FFT size automatically adjusted to 4096 samples (original size: 2730 )\n"
     ]
    },
    {
     "name": "stderr",
     "output_type": "stream",
     "text": [
      "C:\\Users\\xavier.mouy\\Documents\\Workspace\\GitHub\\ecosound\\ecosound\\visualization\\sound_plotter.py:292: RuntimeWarning: More than 20 figures have been opened. Figures created through the pyplot interface (`matplotlib.pyplot.figure`) are retained until explicitly closed and may consume too much memory. (To control this warning, see the rcParam `figure.max_open_warning`).\n",
      "  constrained_layout=True,\n"
     ]
    },
    {
     "name": "stdout",
     "output_type": "stream",
     "text": [
      "Warning: FFT size automatically adjusted to 4096 samples (original size: 2730 )\n"
     ]
    },
    {
     "name": "stderr",
     "output_type": "stream",
     "text": [
      "C:\\Users\\xavier.mouy\\Documents\\Workspace\\GitHub\\ecosound\\ecosound\\visualization\\sound_plotter.py:292: RuntimeWarning: More than 20 figures have been opened. Figures created through the pyplot interface (`matplotlib.pyplot.figure`) are retained until explicitly closed and may consume too much memory. (To control this warning, see the rcParam `figure.max_open_warning`).\n",
      "  constrained_layout=True,\n"
     ]
    },
    {
     "name": "stdout",
     "output_type": "stream",
     "text": [
      "Warning: FFT size automatically adjusted to 4096 samples (original size: 2730 )\n"
     ]
    },
    {
     "name": "stderr",
     "output_type": "stream",
     "text": [
      "C:\\Users\\xavier.mouy\\Documents\\Workspace\\GitHub\\ecosound\\ecosound\\visualization\\sound_plotter.py:292: RuntimeWarning: More than 20 figures have been opened. Figures created through the pyplot interface (`matplotlib.pyplot.figure`) are retained until explicitly closed and may consume too much memory. (To control this warning, see the rcParam `figure.max_open_warning`).\n",
      "  constrained_layout=True,\n"
     ]
    },
    {
     "name": "stdout",
     "output_type": "stream",
     "text": [
      "Warning: FFT size automatically adjusted to 4096 samples (original size: 4094 )\n"
     ]
    },
    {
     "name": "stderr",
     "output_type": "stream",
     "text": [
      "C:\\Users\\xavier.mouy\\Documents\\Workspace\\GitHub\\ecosound\\ecosound\\visualization\\sound_plotter.py:292: RuntimeWarning: More than 20 figures have been opened. Figures created through the pyplot interface (`matplotlib.pyplot.figure`) are retained until explicitly closed and may consume too much memory. (To control this warning, see the rcParam `figure.max_open_warning`).\n",
      "  constrained_layout=True,\n"
     ]
    },
    {
     "name": "stdout",
     "output_type": "stream",
     "text": [
      "Warning: FFT size automatically adjusted to 4096 samples (original size: 2730 )\n"
     ]
    },
    {
     "name": "stderr",
     "output_type": "stream",
     "text": [
      "C:\\Users\\xavier.mouy\\Documents\\Workspace\\GitHub\\ecosound\\ecosound\\visualization\\sound_plotter.py:292: RuntimeWarning: More than 20 figures have been opened. Figures created through the pyplot interface (`matplotlib.pyplot.figure`) are retained until explicitly closed and may consume too much memory. (To control this warning, see the rcParam `figure.max_open_warning`).\n",
      "  constrained_layout=True,\n",
      "WARNING:param.main: active_tools option not found for scatter plot; similar options include: []\n",
      "WARNING:param.main: active_tools option not found for scatter plot; similar options include: []\n"
     ]
    },
    {
     "name": "stdout",
     "output_type": "stream",
     "text": [
      "Warning: FFT size automatically adjusted to 4096 samples (original size: 2730 )\n"
     ]
    },
    {
     "name": "stderr",
     "output_type": "stream",
     "text": [
      "C:\\Users\\xavier.mouy\\Documents\\Workspace\\GitHub\\ecosound\\ecosound\\visualization\\sound_plotter.py:292: RuntimeWarning: More than 20 figures have been opened. Figures created through the pyplot interface (`matplotlib.pyplot.figure`) are retained until explicitly closed and may consume too much memory. (To control this warning, see the rcParam `figure.max_open_warning`).\n",
      "  constrained_layout=True,\n"
     ]
    },
    {
     "name": "stdout",
     "output_type": "stream",
     "text": [
      "Warning: FFT size automatically adjusted to 4096 samples (original size: 2730 )\n"
     ]
    },
    {
     "name": "stderr",
     "output_type": "stream",
     "text": [
      "C:\\Users\\xavier.mouy\\Documents\\Workspace\\GitHub\\ecosound\\ecosound\\visualization\\sound_plotter.py:292: RuntimeWarning: More than 20 figures have been opened. Figures created through the pyplot interface (`matplotlib.pyplot.figure`) are retained until explicitly closed and may consume too much memory. (To control this warning, see the rcParam `figure.max_open_warning`).\n",
      "  constrained_layout=True,\n"
     ]
    },
    {
     "name": "stdout",
     "output_type": "stream",
     "text": [
      "Warning: FFT size automatically adjusted to 4096 samples (original size: 2730 )\n"
     ]
    },
    {
     "name": "stderr",
     "output_type": "stream",
     "text": [
      "C:\\Users\\xavier.mouy\\Documents\\Workspace\\GitHub\\ecosound\\ecosound\\visualization\\sound_plotter.py:292: RuntimeWarning: More than 20 figures have been opened. Figures created through the pyplot interface (`matplotlib.pyplot.figure`) are retained until explicitly closed and may consume too much memory. (To control this warning, see the rcParam `figure.max_open_warning`).\n",
      "  constrained_layout=True,\n",
      "WARNING:param.main: active_tools option not found for scatter plot; similar options include: []\n"
     ]
    },
    {
     "name": "stdout",
     "output_type": "stream",
     "text": [
      "Warning: FFT size automatically adjusted to 4096 samples (original size: 2730 )\n"
     ]
    },
    {
     "name": "stderr",
     "output_type": "stream",
     "text": [
      "C:\\Users\\xavier.mouy\\Documents\\Workspace\\GitHub\\ecosound\\ecosound\\visualization\\sound_plotter.py:292: RuntimeWarning: More than 20 figures have been opened. Figures created through the pyplot interface (`matplotlib.pyplot.figure`) are retained until explicitly closed and may consume too much memory. (To control this warning, see the rcParam `figure.max_open_warning`).\n",
      "  constrained_layout=True,\n"
     ]
    }
   ],
   "source": [
    "data"
   ]
  },
  {
   "cell_type": "code",
   "execution_count": null,
   "metadata": {},
   "outputs": [],
   "source": []
  }
 ],
 "metadata": {
  "kernelspec": {
   "display_name": "Python 3",
   "language": "python",
   "name": "python3"
  },
  "language_info": {
   "codemirror_mode": {
    "name": "ipython",
    "version": 3
   },
   "file_extension": ".py",
   "mimetype": "text/x-python",
   "name": "python",
   "nbconvert_exporter": "python",
   "pygments_lexer": "ipython3",
   "version": "3.7.7"
  }
 },
 "nbformat": 4,
 "nbformat_minor": 4
}
