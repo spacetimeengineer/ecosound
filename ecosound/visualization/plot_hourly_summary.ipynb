{
 "cells": [
  {
   "cell_type": "code",
   "execution_count": 16,
   "metadata": {},
   "outputs": [],
   "source": [
    "import xarray\n",
    "import hvplot.xarray\n",
    "from dask.distributed import Client\n",
    "import numpy as np\n",
    "import pandas as pd\n",
    "import datetime\n",
    "import panel as pn\n",
    "import holoviews as hv\n",
    "from bokeh.models.formatters import DatetimeTickFormatter\n",
    "from bokeh.models import HoverTool\n",
    "pn.extension()"
   ]
  },
  {
   "cell_type": "code",
   "execution_count": 17,
   "metadata": {},
   "outputs": [],
   "source": [
    "#infile = r'C:\\Users\\xavier.mouy\\Documents\\PhD\\Projects\\Dectector\\DFO_RCA_run\\RCA_Out_Oct17_Dec3_2018_67391492\\summary\\hourly_summary.nc'\n",
    "#infile = r'C:\\Users\\xavier.mouy\\Documents\\PhD\\Projects\\Dectector\\DFO_RCA_run\\RCA_In_Dec3_2018_Jan30_2019_67391491\\summary\\hourly_summary.nc'\n",
    "#infile = r'C:\\Users\\xavier.mouy\\Documents\\PhD\\Projects\\Dectector\\DFO_RCA_run\\RCA_In_Jan_April_2019_67674121\\summary\\hourly_summary.nc'\n",
    "infile = r'C:\\Users\\xavier.mouy\\Documents\\PhD\\Projects\\Dectector\\DFO_RCA_run\\RCA_in_April_July2019_1342218252\\summary\\hourly_summary.nc'\n",
    "#infile = r'C:\\Users\\xavier.mouy\\Documents\\PhD\\Projects\\Dectector\\DFO_RCA_run\\RCA_In_July_October2019_67674121\\summary\\hourly_summary.nc'\n",
    "\n",
    "#infile = r'C:\\Users\\xavier.mouy\\Documents\\PhD\\Projects\\Dectector\\DFO_RCA_run\\RCA_in_April_July2019_1342218252\\summary\\hourly_summary.nc'\n",
    "\n",
    "global ds\n",
    "ds = xarray.open_dataset(infile)\n"
   ]
  },
  {
   "cell_type": "code",
   "execution_count": 18,
   "metadata": {},
   "outputs": [],
   "source": [
    "#indir = r'C:\\Users\\xavier.mouy\\Documents\\PhD\\Projects\\Dectector\\DFO_RCA_run\\RCA_In_summaries'\n",
    "#indir = r'C:\\Users\\xavier.mouy\\Documents\\PhD\\Projects\\Dectector\\DFO_RCA_run\\RCA_Out_Oct17_Dec3_2018_67391492\\summary'\n",
    "#global ds\n",
    "#ds = xarray.open_mfdataset(indir + \"/*.nc\",\n",
    "#                          coords=['date'],\n",
    "#                          combine='nested',\n",
    "#                          compat='override',\n",
    "#                          )\n",
    "#ds"
   ]
  },
  {
   "cell_type": "code",
   "execution_count": 19,
   "metadata": {},
   "outputs": [],
   "source": [
    "# widgets\n",
    "class_list = list(ds.data_vars)\n",
    "class_name  = pn.widgets.Select(name='Class',\n",
    "                                value=class_list[0],\n",
    "                                options=class_list\n",
    "                               )\n",
    "threshold = pn.widgets.DiscreteSlider(name='Confidence', options=list(ds.confidence.data), value=list(ds.confidence.data)[0])\n",
    "\n",
    "# Stream\n",
    "# Declare Tap stream with heatmap as source and initial values\n",
    "#posxy = hv.streams.Tap(source=heatmap, x=1951, y='New York')\n",
    "tap = hv.streams.Tap(x=0,y=0)\n",
    "\n",
    "file_input = pn.widgets.FileInput()\n",
    "file_selector = pn.widgets.FileSelector('~')"
   ]
  },
  {
   "cell_type": "code",
   "execution_count": 20,
   "metadata": {},
   "outputs": [],
   "source": [
    "@pn.depends(class_name,threshold)\n",
    "def plot1D(class_name,threshold,time_resolution='H'):\n",
    "    global ds\n",
    "    if time_resolution == 'H':\n",
    "        plot = ds[class_name].sel(confidence=threshold,method='nearest').hvplot()\n",
    "    elif time_resolution == 'D':\n",
    "        plot = ds[class_name].sel(confidence=threshold,method='nearest').resample(date='D').sum().hvplot(kind='step', width=820)\n",
    "    else:\n",
    "        print('Time resolution not supported. Use \"H\" for hours, or \"D\" for days.')\n",
    "    return plot"
   ]
  },
  {
   "cell_type": "code",
   "execution_count": 21,
   "metadata": {},
   "outputs": [],
   "source": [
    "@pn.depends(class_name,threshold)\n",
    "def plot2D(class_name,threshold):\n",
    "    global ds\n",
    "    ds1 = ds[class_name].sel(confidence=threshold,method='nearest')\n",
    "    # Date vector\n",
    "    date = list(ds1.resample(date='D').groups.keys())\n",
    "    # hour of day vector\n",
    "    #hour = pd.date_range(\"00:00\", freq=\"1H\", periods=24).time\n",
    "    hour = range(0,24,1)\n",
    "\n",
    "    # detections matrix\n",
    "    detections = np.empty((len(hour),len(date),))\n",
    "    detections[:] = np.nan\n",
    "    detec_matrix = xarray.DataArray(detections, coords={'hour': hour, 'date': date}, dims=['hour','date'])\n",
    "\n",
    "    # Fill in 2D Array\n",
    "    for x in ds1:\n",
    "        fulldate = pd.to_datetime(x.date.data)\n",
    "        day_str = datetime.datetime.strftime(fulldate,'%Y-%m-%d')\n",
    "        hour = fulldate.time().hour\n",
    "        nDetec = x.data\n",
    "        detec_matrix.loc[hour,day_str] = nDetec\n",
    "\n",
    "    # Sum of detec per day\n",
    "    detec_sum = detec_matrix.sum(dim='hour')\n",
    "    \n",
    "    #formatter = DatetimeTickFormatter(months='%B %Y')\n",
    "    #formatter = DatetimeTickFormatter(months='%B')\n",
    "    \n",
    "    image_plot = detec_matrix.hvplot.image(cmap='rainbow',\n",
    "                                           width=800,\n",
    "                                           xlabel='Date',\n",
    "                                           ylabel='Hour of the day',\n",
    "                                           clabel='Number of detections',\n",
    "                                           tools =['tap'],\n",
    "                                           responsive=False,\n",
    "                                           #xformatter=formatter,\n",
    "                                          )\n",
    "    \n",
    "    #hover = image_plot.select(dict(type=HoverTool))\n",
    "    #hover.tooltips = [(\"Date\", \"@x\"),(\"Hour\", \"@y\"),]\n",
    "    #image_plot.xformatter=formatter\n",
    "    tap.source = image_plot\n",
    "    \n",
    "    return image_plot\n",
    "    #return detec_matrix.hvplot.heatmap(x='Date', y='Hour of day',cmap='rainbow',width=800)    "
   ]
  },
  {
   "cell_type": "code",
   "execution_count": 22,
   "metadata": {},
   "outputs": [
    {
     "name": "stdout",
     "output_type": "stream",
     "text": [
      "Launching server at http://localhost:60096\n"
     ]
    },
    {
     "data": {
      "text/plain": [
       "<bokeh.server.server.Server at 0x209b704e448>"
      ]
     },
     "execution_count": 22,
     "metadata": {},
     "output_type": "execute_result"
    }
   ],
   "source": [
    "widgets = pn.Column(file_input, class_name,threshold)\n",
    "plots = pn.Column(plot2D,plot1D)\n",
    "app = pn.Row(widgets,plots)\n",
    "app.show()\n",
    "#widgets"
   ]
  },
  {
   "cell_type": "code",
   "execution_count": null,
   "metadata": {},
   "outputs": [],
   "source": [
    "tap"
   ]
  },
  {
   "cell_type": "code",
   "execution_count": null,
   "metadata": {},
   "outputs": [],
   "source": []
  },
  {
   "cell_type": "code",
   "execution_count": null,
   "metadata": {},
   "outputs": [],
   "source": []
  },
  {
   "cell_type": "code",
   "execution_count": null,
   "metadata": {},
   "outputs": [],
   "source": []
  },
  {
   "cell_type": "code",
   "execution_count": null,
   "metadata": {},
   "outputs": [],
   "source": []
  },
  {
   "cell_type": "code",
   "execution_count": null,
   "metadata": {},
   "outputs": [],
   "source": [
    "import pandas as pd\n",
    "import numpy as np\n",
    "import holoviews as hv\n",
    "from holoviews import opts\n",
    "hv.extension('bokeh', width=90)"
   ]
  },
  {
   "cell_type": "code",
   "execution_count": null,
   "metadata": {},
   "outputs": [],
   "source": [
    "df = pd.read_csv('http://assets.holoviews.org/data/diseases.csv.gz', compression='gzip')\n",
    "dataset = hv.Dataset(df, vdims=('measles','Measles Incidence'))\n",
    "\n",
    "# Declare HeatMap\n",
    "heatmap = hv.HeatMap(dataset.aggregate(['Year', 'State'], np.mean),\n",
    "                     label='Measles Incidence').select(Year=(1928, 2002))\n",
    "\n",
    "# Declare Tap stream with heatmap as source and initial values\n",
    "posxy = hv.streams.Tap(source=heatmap, x=1951, y='New York')"
   ]
  },
  {
   "cell_type": "code",
   "execution_count": null,
   "metadata": {},
   "outputs": [],
   "source": [
    "# Define function to compute histogram based on tap location\n",
    "def tap_histogram(x, y):\n",
    "    return hv.Curve(dataset.select(State=y, Year=int(x)), kdims='Week',\n",
    "                   label='Year: %s, State: %s' % (x, y))\n",
    "\n",
    "tap_dmap = hv.DynamicMap(tap_histogram, streams=[posxy])\n",
    "\n",
    "(heatmap + tap_dmap).opts(\n",
    "    opts.Curve(framewise=True, height=500, line_color='black', width=375, yaxis='right'),\n",
    "    opts.HeatMap(cmap='RdBu_r', fontsize={'xticks': '6pt'}, height=500,\n",
    "                 logz=True, tools=['hover'], width=700, xrotation=90)\n",
    ")"
   ]
  },
  {
   "cell_type": "code",
   "execution_count": null,
   "metadata": {},
   "outputs": [],
   "source": [
    "dataset"
   ]
  },
  {
   "cell_type": "code",
   "execution_count": null,
   "metadata": {},
   "outputs": [],
   "source": [
    "df"
   ]
  },
  {
   "cell_type": "code",
   "execution_count": null,
   "metadata": {},
   "outputs": [],
   "source": [
    "formatter"
   ]
  },
  {
   "cell_type": "code",
   "execution_count": null,
   "metadata": {},
   "outputs": [],
   "source": [
    "formatter = DatetimeTickFormatter(days ='%m')\n",
    "formatter.days"
   ]
  },
  {
   "cell_type": "code",
   "execution_count": null,
   "metadata": {},
   "outputs": [],
   "source": [
    "dd=plot2D('FS',0.5)"
   ]
  },
  {
   "cell_type": "code",
   "execution_count": null,
   "metadata": {},
   "outputs": [],
   "source": [
    "hover = dd.select(dict(type=HoverTool))\n",
    "hover.tooltips = [(\"Date\", \"@x{int}\"),(\"Hour\", \"$y\"),]"
   ]
  },
  {
   "cell_type": "code",
   "execution_count": null,
   "metadata": {},
   "outputs": [],
   "source": [
    "dd"
   ]
  },
  {
   "cell_type": "code",
   "execution_count": null,
   "metadata": {},
   "outputs": [],
   "source": []
  }
 ],
 "metadata": {
  "kernelspec": {
   "display_name": "Python 3",
   "language": "python",
   "name": "python3"
  },
  "language_info": {
   "codemirror_mode": {
    "name": "ipython",
    "version": 3
   },
   "file_extension": ".py",
   "mimetype": "text/x-python",
   "name": "python",
   "nbconvert_exporter": "python",
   "pygments_lexer": "ipython3",
   "version": "3.7.9"
  }
 },
 "nbformat": 4,
 "nbformat_minor": 4
}
